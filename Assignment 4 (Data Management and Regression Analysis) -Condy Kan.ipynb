{
 "cells": [
  {
   "cell_type": "markdown",
   "metadata": {},
   "source": [
    "## Condy Kan\n",
    "# Assignment 4: Data Management and Regression Analysis\n",
    "### Concept\n",
    "An important way to test the relationship between two variables Y and X is to run the model: Y = a + bX using ordinary least squares (OLS). When we run regressions, we not only estimate the parameters a and b that can then be used for predictions, we also get to understand how well the model fits (i.e., how much of the variance in Y is explained by a+bX).\n",
    "\n",
    "There are many critical issues such as the selection and measurement of the X and Y variables. For example, are the variables scaled properly? How to select X variables?\n",
    "\n",
    "Common sense and business knowledge can often guide you in the proper direction, but one also has to smartly use exploratory data analysis (EDA). In this assignment, you will apply such analyses to understand the relationship between audit fees (the Y variable) and financial characteristics of a firm (the X variables).\n",
    "\n",
    "### Data:\n",
    "- OL Compustat201019 contains financial characteristics of firms from the Compustat Annual Industrial file.\n",
    "- OL AuditFees201019 contains audit fee information from the Audit Analytics database\n",
    "\n",
    "### Data Dictionary:\n",
    "gvkey = Global Company Key; datadate = Date of Fiscal Period Close; fyear = Fiscal Tear; indfmt = Industry Format; consol = Consolidation Level; popsrc = Population Source; datafmt = Data Format; tic = Primary Exchange Ticker; conm = Company Name; curcd = Currency; act = Current Asset Total; at = Asset Total; ceq  = Common/Ordinary Equity total; ebit = Earrings Before Interest and Taxes; ebitda = Earning Before Interest; emp = Employees; invt = Inventories; lct = Current Liabilities; pifo = Pretax Foreign Income; exchg = Stock Exchange; costat = Company Status; fic = IOS Country Code; AUDIT_FEES = Audit Fees; AUDITOR_NAME = Auditor Name; COMPANY_FKEY = Edgar's Central Index Key, BEST_EDGAR_TICKER = Ticker\n",
    "\n",
    "### Requirements\n",
    "1. You are expected to conduct library research (search www.scholar.google.com using keywords such as audit fees) to gain an understanding of variables affecting audit fees.\n",
    "2. The main requirement is that you identify and demonstrate a model explaining audit fees (Y) using firm characteristics (X). Please use OLS.\n",
    "3. Use EDA as well as business judgment to identify the best set of X variables. In short, demonstrate skill in feature engineering.\n",
    "4. Demonstrate pandas skill and ability in data acquisition, data cleaning, data management, and analysis.\n",
    "5. Demonstrate advanced ability in reporting using a Jupyter notebook. Recall that an analytics report has many components (see spec. sheet for previous projects as well as the list below). You are expected to showcase increasing skill in reporting as you make progress in the course."
   ]
  },
  {
   "cell_type": "code",
   "execution_count": 2,
   "metadata": {},
   "outputs": [],
   "source": [
    "import numpy as np\n",
    "import pandas as pd\n",
    "import seaborn as sns\n",
    "import matplotlib.pyplot as plt\n",
    "import statsmodels.formula.api as sm\n",
    "pd.set_option('display.max_columns', 25)\n",
    "import warnings #scipy has some internal issues that comes up as warning\n",
    "warnings.filterwarnings('ignore')\n",
    "import datetime"
   ]
  },
  {
   "cell_type": "code",
   "execution_count": 3,
   "metadata": {},
   "outputs": [
    {
     "data": {
      "text/html": [
       "<div>\n",
       "<style scoped>\n",
       "    .dataframe tbody tr th:only-of-type {\n",
       "        vertical-align: middle;\n",
       "    }\n",
       "\n",
       "    .dataframe tbody tr th {\n",
       "        vertical-align: top;\n",
       "    }\n",
       "\n",
       "    .dataframe thead th {\n",
       "        text-align: right;\n",
       "    }\n",
       "</style>\n",
       "<table border=\"1\" class=\"dataframe\">\n",
       "  <thead>\n",
       "    <tr style=\"text-align: right;\">\n",
       "      <th></th>\n",
       "      <th>gvkey</th>\n",
       "      <th>datadate</th>\n",
       "      <th>fyear</th>\n",
       "      <th>indfmt</th>\n",
       "      <th>consol</th>\n",
       "      <th>popsrc</th>\n",
       "      <th>datafmt</th>\n",
       "      <th>tic</th>\n",
       "      <th>conm</th>\n",
       "      <th>curcd</th>\n",
       "      <th>act</th>\n",
       "      <th>at</th>\n",
       "      <th>ceq</th>\n",
       "      <th>ebit</th>\n",
       "      <th>ebitda</th>\n",
       "      <th>emp</th>\n",
       "      <th>invt</th>\n",
       "      <th>lct</th>\n",
       "      <th>pifo</th>\n",
       "      <th>exchg</th>\n",
       "      <th>costat</th>\n",
       "      <th>fic</th>\n",
       "    </tr>\n",
       "  </thead>\n",
       "  <tbody>\n",
       "    <tr>\n",
       "      <th>0</th>\n",
       "      <td>1004</td>\n",
       "      <td>05/31/2010</td>\n",
       "      <td>2009.0</td>\n",
       "      <td>INDL</td>\n",
       "      <td>C</td>\n",
       "      <td>D</td>\n",
       "      <td>STD</td>\n",
       "      <td>AIR</td>\n",
       "      <td>AAR CORP</td>\n",
       "      <td>USD</td>\n",
       "      <td>863.429</td>\n",
       "      <td>1501.042</td>\n",
       "      <td>746.906</td>\n",
       "      <td>95.415</td>\n",
       "      <td>134.345</td>\n",
       "      <td>5.8</td>\n",
       "      <td>496.904</td>\n",
       "      <td>325.55</td>\n",
       "      <td>NaN</td>\n",
       "      <td>11.0</td>\n",
       "      <td>A</td>\n",
       "      <td>USA</td>\n",
       "    </tr>\n",
       "    <tr>\n",
       "      <th>1</th>\n",
       "      <td>1004</td>\n",
       "      <td>05/31/2011</td>\n",
       "      <td>2010.0</td>\n",
       "      <td>INDL</td>\n",
       "      <td>C</td>\n",
       "      <td>D</td>\n",
       "      <td>STD</td>\n",
       "      <td>AIR</td>\n",
       "      <td>AAR CORP</td>\n",
       "      <td>USD</td>\n",
       "      <td>913.985</td>\n",
       "      <td>1703.727</td>\n",
       "      <td>835.845</td>\n",
       "      <td>137.016</td>\n",
       "      <td>196.312</td>\n",
       "      <td>6.1</td>\n",
       "      <td>507.274</td>\n",
       "      <td>416.01</td>\n",
       "      <td>NaN</td>\n",
       "      <td>11.0</td>\n",
       "      <td>A</td>\n",
       "      <td>USA</td>\n",
       "    </tr>\n",
       "  </tbody>\n",
       "</table>\n",
       "</div>"
      ],
      "text/plain": [
       "   gvkey    datadate   fyear indfmt consol popsrc datafmt  tic      conm  \\\n",
       "0   1004  05/31/2010  2009.0   INDL      C      D     STD  AIR  AAR CORP   \n",
       "1   1004  05/31/2011  2010.0   INDL      C      D     STD  AIR  AAR CORP   \n",
       "\n",
       "  curcd      act        at      ceq     ebit   ebitda  emp     invt     lct  \\\n",
       "0   USD  863.429  1501.042  746.906   95.415  134.345  5.8  496.904  325.55   \n",
       "1   USD  913.985  1703.727  835.845  137.016  196.312  6.1  507.274  416.01   \n",
       "\n",
       "   pifo  exchg costat  fic  \n",
       "0   NaN   11.0      A  USA  \n",
       "1   NaN   11.0      A  USA  "
      ]
     },
     "execution_count": 3,
     "metadata": {},
     "output_type": "execute_result"
    }
   ],
   "source": [
    "myfile1 = \"C:/Users/Condy/Downloads/BANA-680 Assignment 4 OL Compustat201019.csv\"\n",
    "df1 = pd.read_csv(myfile1)\n",
    "df1['datadate'] = pd.to_datetime(df1['datadate'], format='%Y%m%d').dt.strftime('%m/%d/%Y')\n",
    "df1.head(2)"
   ]
  },
  {
   "cell_type": "markdown",
   "metadata": {},
   "source": [
    "In this data, OL AuditFees201019, the column names of FISCAL_YEAR, FISCAL_YEAR_ENDED, and BEST_EDGAR_TICKER are modified to fyear, datadate, and tic respectively because they have the same meaning as the prevous data set (shown above). "
   ]
  },
  {
   "cell_type": "code",
   "execution_count": 26,
   "metadata": {},
   "outputs": [
    {
     "data": {
      "text/html": [
       "<div>\n",
       "<style scoped>\n",
       "    .dataframe tbody tr th:only-of-type {\n",
       "        vertical-align: middle;\n",
       "    }\n",
       "\n",
       "    .dataframe tbody tr th {\n",
       "        vertical-align: top;\n",
       "    }\n",
       "\n",
       "    .dataframe thead th {\n",
       "        text-align: right;\n",
       "    }\n",
       "</style>\n",
       "<table border=\"1\" class=\"dataframe\">\n",
       "  <thead>\n",
       "    <tr style=\"text-align: right;\">\n",
       "      <th></th>\n",
       "      <th>fyear</th>\n",
       "      <th>datadate</th>\n",
       "      <th>AUDIT_FEES</th>\n",
       "      <th>AUDITOR_NAME</th>\n",
       "      <th>COMPANY_FKEY</th>\n",
       "      <th>tic</th>\n",
       "    </tr>\n",
       "  </thead>\n",
       "  <tbody>\n",
       "    <tr>\n",
       "      <th>0</th>\n",
       "      <td>2009</td>\n",
       "      <td>01/02/2010</td>\n",
       "      <td>643000</td>\n",
       "      <td>Grant Thornton LLP</td>\n",
       "      <td>20</td>\n",
       "      <td>NaN</td>\n",
       "    </tr>\n",
       "    <tr>\n",
       "      <th>1</th>\n",
       "      <td>2010</td>\n",
       "      <td>05/31/2010</td>\n",
       "      <td>1490000</td>\n",
       "      <td>KPMG LLP</td>\n",
       "      <td>1750</td>\n",
       "      <td>AIR</td>\n",
       "    </tr>\n",
       "  </tbody>\n",
       "</table>\n",
       "</div>"
      ],
      "text/plain": [
       "   fyear    datadate  AUDIT_FEES        AUDITOR_NAME  COMPANY_FKEY  tic\n",
       "0   2009  01/02/2010      643000  Grant Thornton LLP            20  NaN\n",
       "1   2010  05/31/2010     1490000            KPMG LLP          1750  AIR"
      ]
     },
     "execution_count": 26,
     "metadata": {},
     "output_type": "execute_result"
    }
   ],
   "source": [
    "myfile2 = \"C:/Users/Condy/Downloads/BANA-680 Assignment 4 OL AuditFees201019.csv\"\n",
    "df2 = pd.read_csv(myfile2, encoding = \"ISO-8859-1\").rename(columns={\"FISCAL_YEAR\": \"fyear\", \"FISCAL_YEAR_ENDED\" : \"datadate\", \"BEST_EDGAR_TICKER\":\"tic\"})\n",
    "df2['datadate'] = pd.to_datetime(df2['datadate'], format='%d%b%Y').dt.strftime('%m/%d/%Y')\n",
    "df2.head(2)"
   ]
  },
  {
   "cell_type": "markdown",
   "metadata": {},
   "source": [
    "Because three columns have the same meaning in both data sets, I would like to merge them, using inner join. Because we would like to use AUDIT_FEES as the dependent variable so I moved the AUDIT_FEES column at the first index. It wouldn't be confusing"
   ]
  },
  {
   "cell_type": "code",
   "execution_count": 27,
   "metadata": {},
   "outputs": [
    {
     "data": {
      "text/html": [
       "<div>\n",
       "<style scoped>\n",
       "    .dataframe tbody tr th:only-of-type {\n",
       "        vertical-align: middle;\n",
       "    }\n",
       "\n",
       "    .dataframe tbody tr th {\n",
       "        vertical-align: top;\n",
       "    }\n",
       "\n",
       "    .dataframe thead th {\n",
       "        text-align: right;\n",
       "    }\n",
       "</style>\n",
       "<table border=\"1\" class=\"dataframe\">\n",
       "  <thead>\n",
       "    <tr style=\"text-align: right;\">\n",
       "      <th></th>\n",
       "      <th>AUDIT_FEES</th>\n",
       "      <th>fyear</th>\n",
       "      <th>datadate</th>\n",
       "      <th>AUDITOR_NAME</th>\n",
       "      <th>COMPANY_FKEY</th>\n",
       "      <th>tic</th>\n",
       "      <th>gvkey</th>\n",
       "      <th>indfmt</th>\n",
       "      <th>consol</th>\n",
       "      <th>popsrc</th>\n",
       "      <th>datafmt</th>\n",
       "      <th>conm</th>\n",
       "      <th>curcd</th>\n",
       "      <th>act</th>\n",
       "      <th>at</th>\n",
       "      <th>ceq</th>\n",
       "      <th>ebit</th>\n",
       "      <th>ebitda</th>\n",
       "      <th>emp</th>\n",
       "      <th>invt</th>\n",
       "      <th>lct</th>\n",
       "      <th>pifo</th>\n",
       "      <th>exchg</th>\n",
       "      <th>costat</th>\n",
       "      <th>fic</th>\n",
       "    </tr>\n",
       "  </thead>\n",
       "  <tbody>\n",
       "    <tr>\n",
       "      <th>0</th>\n",
       "      <td>18375000</td>\n",
       "      <td>2010</td>\n",
       "      <td>12/31/2010</td>\n",
       "      <td>Deloitte &amp; Touche LLP</td>\n",
       "      <td>1800</td>\n",
       "      <td>ABT</td>\n",
       "      <td>1078</td>\n",
       "      <td>INDL</td>\n",
       "      <td>C</td>\n",
       "      <td>D</td>\n",
       "      <td>STD</td>\n",
       "      <td>ABBOTT LABORATORIES</td>\n",
       "      <td>USD</td>\n",
       "      <td>22317.529</td>\n",
       "      <td>59462.266</td>\n",
       "      <td>22388.135</td>\n",
       "      <td>8038.781</td>\n",
       "      <td>10663.086</td>\n",
       "      <td>90.0</td>\n",
       "      <td>3188.734</td>\n",
       "      <td>17262.434</td>\n",
       "      <td>5988.0</td>\n",
       "      <td>11.0</td>\n",
       "      <td>A</td>\n",
       "      <td>USA</td>\n",
       "    </tr>\n",
       "    <tr>\n",
       "      <th>1</th>\n",
       "      <td>17472000</td>\n",
       "      <td>2011</td>\n",
       "      <td>12/31/2011</td>\n",
       "      <td>Deloitte &amp; Touche LLP</td>\n",
       "      <td>1800</td>\n",
       "      <td>ABT</td>\n",
       "      <td>1078</td>\n",
       "      <td>INDL</td>\n",
       "      <td>C</td>\n",
       "      <td>D</td>\n",
       "      <td>STD</td>\n",
       "      <td>ABBOTT LABORATORIES</td>\n",
       "      <td>USD</td>\n",
       "      <td>23768.774</td>\n",
       "      <td>60276.893</td>\n",
       "      <td>24439.833</td>\n",
       "      <td>8996.448</td>\n",
       "      <td>12040.342</td>\n",
       "      <td>91.0</td>\n",
       "      <td>3284.249</td>\n",
       "      <td>15480.228</td>\n",
       "      <td>4835.0</td>\n",
       "      <td>11.0</td>\n",
       "      <td>A</td>\n",
       "      <td>USA</td>\n",
       "    </tr>\n",
       "    <tr>\n",
       "      <th>2</th>\n",
       "      <td>17978000</td>\n",
       "      <td>2012</td>\n",
       "      <td>12/31/2012</td>\n",
       "      <td>Deloitte &amp; Touche LLP</td>\n",
       "      <td>1800</td>\n",
       "      <td>ABT</td>\n",
       "      <td>1078</td>\n",
       "      <td>INDL</td>\n",
       "      <td>C</td>\n",
       "      <td>D</td>\n",
       "      <td>STD</td>\n",
       "      <td>ABBOTT LABORATORIES</td>\n",
       "      <td>USD</td>\n",
       "      <td>31322.583</td>\n",
       "      <td>67234.944</td>\n",
       "      <td>26720.961</td>\n",
       "      <td>9783.515</td>\n",
       "      <td>12566.722</td>\n",
       "      <td>91.0</td>\n",
       "      <td>3792.313</td>\n",
       "      <td>13280.176</td>\n",
       "      <td>6883.0</td>\n",
       "      <td>11.0</td>\n",
       "      <td>A</td>\n",
       "      <td>USA</td>\n",
       "    </tr>\n",
       "    <tr>\n",
       "      <th>3</th>\n",
       "      <td>15511000</td>\n",
       "      <td>2013</td>\n",
       "      <td>12/31/2013</td>\n",
       "      <td>Deloitte &amp; Touche LLP</td>\n",
       "      <td>1800</td>\n",
       "      <td>ABT</td>\n",
       "      <td>1078</td>\n",
       "      <td>INDL</td>\n",
       "      <td>C</td>\n",
       "      <td>D</td>\n",
       "      <td>STD</td>\n",
       "      <td>ABBOTT LABORATORIES</td>\n",
       "      <td>USD</td>\n",
       "      <td>19247.000</td>\n",
       "      <td>42953.000</td>\n",
       "      <td>25171.000</td>\n",
       "      <td>2674.000</td>\n",
       "      <td>4393.000</td>\n",
       "      <td>69.0</td>\n",
       "      <td>2693.000</td>\n",
       "      <td>9507.000</td>\n",
       "      <td>1992.0</td>\n",
       "      <td>11.0</td>\n",
       "      <td>A</td>\n",
       "      <td>USA</td>\n",
       "    </tr>\n",
       "    <tr>\n",
       "      <th>4</th>\n",
       "      <td>12567000</td>\n",
       "      <td>2014</td>\n",
       "      <td>12/31/2014</td>\n",
       "      <td>Ernst &amp; Young LLP</td>\n",
       "      <td>1800</td>\n",
       "      <td>ABT</td>\n",
       "      <td>1078</td>\n",
       "      <td>INDL</td>\n",
       "      <td>C</td>\n",
       "      <td>D</td>\n",
       "      <td>STD</td>\n",
       "      <td>ABBOTT LABORATORIES</td>\n",
       "      <td>USD</td>\n",
       "      <td>15261.000</td>\n",
       "      <td>41275.000</td>\n",
       "      <td>21526.000</td>\n",
       "      <td>2927.000</td>\n",
       "      <td>4475.000</td>\n",
       "      <td>77.0</td>\n",
       "      <td>2643.000</td>\n",
       "      <td>10532.000</td>\n",
       "      <td>2126.0</td>\n",
       "      <td>11.0</td>\n",
       "      <td>A</td>\n",
       "      <td>USA</td>\n",
       "    </tr>\n",
       "  </tbody>\n",
       "</table>\n",
       "</div>"
      ],
      "text/plain": [
       "   AUDIT_FEES  fyear    datadate           AUDITOR_NAME  COMPANY_FKEY  tic  \\\n",
       "0    18375000   2010  12/31/2010  Deloitte & Touche LLP          1800  ABT   \n",
       "1    17472000   2011  12/31/2011  Deloitte & Touche LLP          1800  ABT   \n",
       "2    17978000   2012  12/31/2012  Deloitte & Touche LLP          1800  ABT   \n",
       "3    15511000   2013  12/31/2013  Deloitte & Touche LLP          1800  ABT   \n",
       "4    12567000   2014  12/31/2014      Ernst & Young LLP          1800  ABT   \n",
       "\n",
       "   gvkey indfmt consol popsrc datafmt                 conm curcd        act  \\\n",
       "0   1078   INDL      C      D     STD  ABBOTT LABORATORIES   USD  22317.529   \n",
       "1   1078   INDL      C      D     STD  ABBOTT LABORATORIES   USD  23768.774   \n",
       "2   1078   INDL      C      D     STD  ABBOTT LABORATORIES   USD  31322.583   \n",
       "3   1078   INDL      C      D     STD  ABBOTT LABORATORIES   USD  19247.000   \n",
       "4   1078   INDL      C      D     STD  ABBOTT LABORATORIES   USD  15261.000   \n",
       "\n",
       "          at        ceq      ebit     ebitda   emp      invt        lct  \\\n",
       "0  59462.266  22388.135  8038.781  10663.086  90.0  3188.734  17262.434   \n",
       "1  60276.893  24439.833  8996.448  12040.342  91.0  3284.249  15480.228   \n",
       "2  67234.944  26720.961  9783.515  12566.722  91.0  3792.313  13280.176   \n",
       "3  42953.000  25171.000  2674.000   4393.000  69.0  2693.000   9507.000   \n",
       "4  41275.000  21526.000  2927.000   4475.000  77.0  2643.000  10532.000   \n",
       "\n",
       "     pifo  exchg costat  fic  \n",
       "0  5988.0   11.0      A  USA  \n",
       "1  4835.0   11.0      A  USA  \n",
       "2  6883.0   11.0      A  USA  \n",
       "3  1992.0   11.0      A  USA  \n",
       "4  2126.0   11.0      A  USA  "
      ]
     },
     "execution_count": 27,
     "metadata": {},
     "output_type": "execute_result"
    }
   ],
   "source": [
    "mergedData = pd.merge(df2, df1, on=[\"fyear\",\"datadate\", \"tic\"], how='inner')\n",
    "audit_fee = mergedData['AUDIT_FEES']\n",
    "mergedData.drop(labels=['AUDIT_FEES'], axis=1,inplace = True)\n",
    "mergedData.insert(0,\"AUDIT_FEES\", audit_fee)\n",
    "mergedData.head()"
   ]
  },
  {
   "cell_type": "markdown",
   "metadata": {},
   "source": [
    "I would like to perform EDA because it helps me to understand the patterns within the data, identify outliers, and find relations among the characteristics. It would be valuable for finding the most important variables in the data and building a model. After EDA, we wil have our questions validated and able to share insights. Below, I am counting the null values in the merged data ."
   ]
  },
  {
   "cell_type": "code",
   "execution_count": 28,
   "metadata": {
    "scrolled": true
   },
   "outputs": [
    {
     "name": "stdout",
     "output_type": "stream",
     "text": [
      "number of rows that have null values: 303967\n",
      "row count in the merged data : 315297\n",
      "rows without null values: 3.59%\n"
     ]
    }
   ],
   "source": [
    "null_rows= mergedData.isnull().any(axis=1).sum()\n",
    "print(\"number of rows that have null values:\", null_rows)\n",
    "print (\"row count in the merged data :\", len(mergedData))\n",
    "print(\"rows without null values: {:.2f}%\".format(((len(mergedData)-null_rows)/len(mergedData)) * 100))"
   ]
  },
  {
   "cell_type": "markdown",
   "metadata": {},
   "source": [
    "If I drop all rows, which contains null-values, and perform EDA on the dataset, I would only have 3.59% of the data to analyze and test hypothesis. It may not be enough data to make conclusions. So I would like to use EDA on the merged data, including the null values. Because we have 9.89% of the data to perform EDA, we would not want to drop any columns."
   ]
  },
  {
   "cell_type": "code",
   "execution_count": 29,
   "metadata": {},
   "outputs": [
    {
     "name": "stdout",
     "output_type": "stream",
     "text": [
      "<class 'pandas.core.frame.DataFrame'>\n",
      "Int64Index: 315297 entries, 0 to 315296\n",
      "Data columns (total 25 columns):\n",
      " #   Column        Non-Null Count   Dtype  \n",
      "---  ------        --------------   -----  \n",
      " 0   AUDIT_FEES    315297 non-null  int64  \n",
      " 1   fyear         315297 non-null  int64  \n",
      " 2   datadate      315297 non-null  object \n",
      " 3   AUDITOR_NAME  315297 non-null  object \n",
      " 4   COMPANY_FKEY  315297 non-null  int64  \n",
      " 5   tic           42879 non-null   object \n",
      " 6   gvkey         315297 non-null  int64  \n",
      " 7   indfmt        315297 non-null  object \n",
      " 8   consol        315297 non-null  object \n",
      " 9   popsrc        315297 non-null  object \n",
      " 10  datafmt       315297 non-null  object \n",
      " 11  conm          315297 non-null  object \n",
      " 12  curcd         315297 non-null  object \n",
      " 13  act           30654 non-null   float64\n",
      " 14  at            52967 non-null   float64\n",
      " 15  ceq           52899 non-null   float64\n",
      " 16  ebit          46322 non-null   float64\n",
      " 17  ebitda        44923 non-null   float64\n",
      " 18  emp           46792 non-null   float64\n",
      " 19  invt          48093 non-null   float64\n",
      " 20  lct           30736 non-null   float64\n",
      " 21  pifo          12566 non-null   float64\n",
      " 22  exchg         45545 non-null   float64\n",
      " 23  costat        315297 non-null  object \n",
      " 24  fic           315297 non-null  object \n",
      "dtypes: float64(10), int64(4), object(11)\n",
      "memory usage: 62.5+ MB\n"
     ]
    }
   ],
   "source": [
    "mergedData.info()"
   ]
  },
  {
   "cell_type": "markdown",
   "metadata": {},
   "source": [
    "Now, this distribution describes audit fees against the firm characteristics. "
   ]
  },
  {
   "cell_type": "code",
   "execution_count": 30,
   "metadata": {},
   "outputs": [
    {
     "name": "stdout",
     "output_type": "stream",
     "text": [
      "count    3.152970e+05\n",
      "mean     9.392031e+05\n",
      "std      3.025297e+06\n",
      "min      0.000000e+00\n",
      "25%      4.091300e+04\n",
      "50%      1.570000e+05\n",
      "75%      7.888600e+05\n",
      "max      1.445000e+08\n",
      "Name: AUDIT_FEES, dtype: float64\n"
     ]
    },
    {
     "data": {
      "image/png": "[encoded data removed]",
      "text/plain": [
       "<Figure size 504x360 with 1 Axes>"
      ]
     },
     "metadata": {
      "needs_background": "light"
     },
     "output_type": "display_data"
    }
   ],
   "source": [
    "print(mergedData[\"AUDIT_FEES\"].describe())\n",
    "plt.figure(figsize=(7,5))\n",
    "sns.distplot(mergedData[\"AUDIT_FEES\"], color='g', bins=50, hist_kws={'alpha':0.6})\n",
    "plt.show()"
   ]
  },
  {
   "cell_type": "markdown",
   "metadata": {},
   "source": [
    "From the graph above, we see that it is rightly skewed. So we would like to analyze individual distributions to understand the attributes and the ranges of each attributes. Also, we would see if they share a similar distribution as the 'AUDIT_FEES' distribition. "
   ]
  },
  {
   "cell_type": "code",
   "execution_count": 31,
   "metadata": {},
   "outputs": [],
   "source": [
    "mergedData_num = mergedData.select_dtypes(include=[\"int64\", \"float64\"])"
   ]
  },
  {
   "cell_type": "code",
   "execution_count": 32,
   "metadata": {},
   "outputs": [
    {
     "data": {
      "image/png": "[encoded data removed]",
      "text/plain": [
       "<Figure size 1080x720 with 16 Axes>"
      ]
     },
     "metadata": {
      "needs_background": "light"
     },
     "output_type": "display_data"
    }
   ],
   "source": [
    "mergedData_num.hist(figsize=(15,10), color=\"darkblue\", bins=50, xlabelsize=8, ylabelsize=8)\n",
    "plt.show()"
   ]
  },
  {
   "cell_type": "markdown",
   "metadata": {},
   "source": [
    "Now, we learned that 'act', 'at', 'ceq', 'ebit', 'ebitda', 'emp', 'invt', 'lct', anf \"pifo\" in the graphs above, have a similar distirbution as \"AUDIT_FEES\" distribution. Next, we wee which firm characteristics has a strong correlated relationship with 'AUDIT_FEES\"."
   ]
  },
  {
   "cell_type": "code",
   "execution_count": 33,
   "metadata": {},
   "outputs": [
    {
     "name": "stdout",
     "output_type": "stream",
     "text": [
      "fyear           0.092900\n",
      "COMPANY_FKEY   -0.118856\n",
      "gvkey          -0.140564\n",
      "act             0.717434\n",
      "at              0.669304\n",
      "ceq             0.677756\n",
      "ebit            0.588307\n",
      "ebitda          0.631247\n",
      "emp             0.582305\n",
      "invt            0.356945\n",
      "lct             0.695260\n",
      "pifo            0.434083\n",
      "exchg          -0.232970\n",
      "Name: AUDIT_FEES, dtype: float64 \n",
      " \n",
      "There are 7 strongly correlated values with AUDIT_FEES: \n",
      "act       0.717434\n",
      "lct       0.695260\n",
      "ceq       0.677756\n",
      "at        0.669304\n",
      "ebitda    0.631247\n",
      "ebit      0.588307\n",
      "emp       0.582305\n",
      "Name: AUDIT_FEES, dtype: float64\n"
     ]
    }
   ],
   "source": [
    "mergedData_num_corr = mergedData_num.corr()[\"AUDIT_FEES\"][1:]\n",
    "print(mergedData_num_corr,'\\n ')\n",
    "golden_features_list = mergedData_num_corr[abs(mergedData_num_corr) > 0.5].sort_values(ascending=False)\n",
    "print(\"There are {} strongly correlated values with AUDIT_FEES: \\n{}\".format(len(golden_features_list), golden_features_list))"
   ]
  },
  {
   "cell_type": "markdown",
   "metadata": {},
   "source": [
    "We may conclude that there is seven strong correlation between AUDIT_FEES and the firm characteristics. Now, we use a heat map to see if there are correlations between the characteristics. "
   ]
  },
  {
   "cell_type": "code",
   "execution_count": 34,
   "metadata": {},
   "outputs": [
    {
     "data": {
      "image/png": "[encoded data removed]",
      "text/plain": [
       "<Figure size 720x576 with 2 Axes>"
      ]
     },
     "metadata": {
      "needs_background": "light"
     },
     "output_type": "display_data"
    }
   ],
   "source": [
    "plt.figure(figsize=(10,8))\n",
    "corr = mergedData_num.corr()\n",
    "mask = np.zeros_like(corr)\n",
    "matrix = np.triu(mergedData_num.corr())\n",
    "mask[np.triu_indices_from(mask)] = True\n",
    "cmap = sns.diverging_palette(220, 20, sep=155, as_cmap=True)\n",
    "sns.heatmap(corr,mask = matrix,annot = True, fmt='.2g', vmin=-1, vmax=1, \n",
    "            center= 0, cmap= cmap,square=True, annot_kws={'size': 9},robust = True); \n",
    "plt.show()"
   ]
  },
  {
   "cell_type": "markdown",
   "metadata": {},
   "source": [
    "From the map, it shows that there are relationships between the characteristics. We had to determine which independent variables matter most and how they impact each other. Firstly, the 'ebit' and 'ebitda' realtionship indicates that earnings with/without taxes may not make a big difference. The correlation between 'ebit' and 'ebitda' is about 0.96, which is the highest in the map. The 'ceq' and 'act' relationship indicates that here is a strong relationship between current/ordinary equity total and asset current total. The correlation between'emp\" and \"act\"/\"invt\" are also strong. The relationship between 'lct' and 'at' is also strong.  Plus, the feature, 'lct', has more stronger relationships with the other features.  Overall, I plan to drop \"act\", \"ebit\", \"lct\". Plus, the variable of \"gvkey\" may be dropped because it may not give any information to build the model as well. From the correlation, these relationships help to detemine with removing columns that means the same. \n",
    "\n",
    "In addition, the variables 'fyear' and 'datadate\" have the similar meaning; \"datadate\" column would be dropped. I finally can clean and drop the null values on the merged data. I would able to perform OLS on the cleaned data."
   ]
  },
  {
   "cell_type": "code",
   "execution_count": 35,
   "metadata": {},
   "outputs": [],
   "source": [
    "cleanedData= mergedData.dropna().drop(columns=['act', 'ebit', \"lct\", \"gvkey\", \"datadate\"])"
   ]
  },
  {
   "cell_type": "code",
   "execution_count": 36,
   "metadata": {},
   "outputs": [
    {
     "data": {
      "text/html": [
       "<div>\n",
       "<style scoped>\n",
       "    .dataframe tbody tr th:only-of-type {\n",
       "        vertical-align: middle;\n",
       "    }\n",
       "\n",
       "    .dataframe tbody tr th {\n",
       "        vertical-align: top;\n",
       "    }\n",
       "\n",
       "    .dataframe thead th {\n",
       "        text-align: right;\n",
       "    }\n",
       "</style>\n",
       "<table border=\"1\" class=\"dataframe\">\n",
       "  <thead>\n",
       "    <tr style=\"text-align: right;\">\n",
       "      <th></th>\n",
       "      <th>AUDIT_FEES</th>\n",
       "      <th>fyear</th>\n",
       "      <th>AUDITOR_NAME</th>\n",
       "      <th>COMPANY_FKEY</th>\n",
       "      <th>tic</th>\n",
       "      <th>indfmt</th>\n",
       "      <th>consol</th>\n",
       "      <th>popsrc</th>\n",
       "      <th>datafmt</th>\n",
       "      <th>conm</th>\n",
       "      <th>curcd</th>\n",
       "      <th>at</th>\n",
       "      <th>ceq</th>\n",
       "      <th>ebitda</th>\n",
       "      <th>emp</th>\n",
       "      <th>invt</th>\n",
       "      <th>pifo</th>\n",
       "      <th>exchg</th>\n",
       "      <th>costat</th>\n",
       "      <th>fic</th>\n",
       "    </tr>\n",
       "  </thead>\n",
       "  <tbody>\n",
       "    <tr>\n",
       "      <th>0</th>\n",
       "      <td>18375000</td>\n",
       "      <td>2010</td>\n",
       "      <td>Deloitte &amp; Touche LLP</td>\n",
       "      <td>1800</td>\n",
       "      <td>ABT</td>\n",
       "      <td>INDL</td>\n",
       "      <td>C</td>\n",
       "      <td>D</td>\n",
       "      <td>STD</td>\n",
       "      <td>ABBOTT LABORATORIES</td>\n",
       "      <td>USD</td>\n",
       "      <td>59462.266</td>\n",
       "      <td>22388.135</td>\n",
       "      <td>10663.086</td>\n",
       "      <td>90.0</td>\n",
       "      <td>3188.734</td>\n",
       "      <td>5988.0</td>\n",
       "      <td>11.0</td>\n",
       "      <td>A</td>\n",
       "      <td>USA</td>\n",
       "    </tr>\n",
       "    <tr>\n",
       "      <th>1</th>\n",
       "      <td>17472000</td>\n",
       "      <td>2011</td>\n",
       "      <td>Deloitte &amp; Touche LLP</td>\n",
       "      <td>1800</td>\n",
       "      <td>ABT</td>\n",
       "      <td>INDL</td>\n",
       "      <td>C</td>\n",
       "      <td>D</td>\n",
       "      <td>STD</td>\n",
       "      <td>ABBOTT LABORATORIES</td>\n",
       "      <td>USD</td>\n",
       "      <td>60276.893</td>\n",
       "      <td>24439.833</td>\n",
       "      <td>12040.342</td>\n",
       "      <td>91.0</td>\n",
       "      <td>3284.249</td>\n",
       "      <td>4835.0</td>\n",
       "      <td>11.0</td>\n",
       "      <td>A</td>\n",
       "      <td>USA</td>\n",
       "    </tr>\n",
       "  </tbody>\n",
       "</table>\n",
       "</div>"
      ],
      "text/plain": [
       "   AUDIT_FEES  fyear           AUDITOR_NAME  COMPANY_FKEY  tic indfmt consol  \\\n",
       "0    18375000   2010  Deloitte & Touche LLP          1800  ABT   INDL      C   \n",
       "1    17472000   2011  Deloitte & Touche LLP          1800  ABT   INDL      C   \n",
       "\n",
       "  popsrc datafmt                 conm curcd         at        ceq     ebitda  \\\n",
       "0      D     STD  ABBOTT LABORATORIES   USD  59462.266  22388.135  10663.086   \n",
       "1      D     STD  ABBOTT LABORATORIES   USD  60276.893  24439.833  12040.342   \n",
       "\n",
       "    emp      invt    pifo  exchg costat  fic  \n",
       "0  90.0  3188.734  5988.0   11.0      A  USA  \n",
       "1  91.0  3284.249  4835.0   11.0      A  USA  "
      ]
     },
     "execution_count": 36,
     "metadata": {},
     "output_type": "execute_result"
    }
   ],
   "source": [
    "cleanedData.head(2)"
   ]
  },
  {
   "cell_type": "code",
   "execution_count": 37,
   "metadata": {
    "scrolled": false
   },
   "outputs": [
    {
     "data": {
      "text/html": [
       "<div>\n",
       "<style scoped>\n",
       "    .dataframe tbody tr th:only-of-type {\n",
       "        vertical-align: middle;\n",
       "    }\n",
       "\n",
       "    .dataframe tbody tr th {\n",
       "        vertical-align: top;\n",
       "    }\n",
       "\n",
       "    .dataframe thead th {\n",
       "        text-align: right;\n",
       "    }\n",
       "</style>\n",
       "<table border=\"1\" class=\"dataframe\">\n",
       "  <thead>\n",
       "    <tr style=\"text-align: right;\">\n",
       "      <th></th>\n",
       "      <th>AUDIT_FEES</th>\n",
       "      <th>fyear</th>\n",
       "      <th>COMPANY_FKEY</th>\n",
       "      <th>at</th>\n",
       "      <th>ceq</th>\n",
       "      <th>ebitda</th>\n",
       "      <th>emp</th>\n",
       "      <th>invt</th>\n",
       "      <th>pifo</th>\n",
       "      <th>exchg</th>\n",
       "    </tr>\n",
       "  </thead>\n",
       "  <tbody>\n",
       "    <tr>\n",
       "      <th>count</th>\n",
       "      <td>1.133000e+04</td>\n",
       "      <td>11330.000000</td>\n",
       "      <td>1.133000e+04</td>\n",
       "      <td>11330.000000</td>\n",
       "      <td>11330.000000</td>\n",
       "      <td>11330.000000</td>\n",
       "      <td>11330.000000</td>\n",
       "      <td>11330.000000</td>\n",
       "      <td>11330.000000</td>\n",
       "      <td>11330.000000</td>\n",
       "    </tr>\n",
       "    <tr>\n",
       "      <th>mean</th>\n",
       "      <td>3.151835e+06</td>\n",
       "      <td>2014.482524</td>\n",
       "      <td>9.597044e+05</td>\n",
       "      <td>6997.567973</td>\n",
       "      <td>2570.484580</td>\n",
       "      <td>905.318871</td>\n",
       "      <td>13.171431</td>\n",
       "      <td>433.607678</td>\n",
       "      <td>285.750122</td>\n",
       "      <td>12.905119</td>\n",
       "    </tr>\n",
       "    <tr>\n",
       "      <th>std</th>\n",
       "      <td>4.962281e+06</td>\n",
       "      <td>2.557815</td>\n",
       "      <td>4.904581e+05</td>\n",
       "      <td>23913.640601</td>\n",
       "      <td>10163.682961</td>\n",
       "      <td>3427.174140</td>\n",
       "      <td>38.105159</td>\n",
       "      <td>1742.068876</td>\n",
       "      <td>1872.759854</td>\n",
       "      <td>2.047391</td>\n",
       "    </tr>\n",
       "    <tr>\n",
       "      <th>min</th>\n",
       "      <td>0.000000e+00</td>\n",
       "      <td>2010.000000</td>\n",
       "      <td>1.800000e+03</td>\n",
       "      <td>0.000000</td>\n",
       "      <td>-11591.210000</td>\n",
       "      <td>-21913.000000</td>\n",
       "      <td>0.000000</td>\n",
       "      <td>0.000000</td>\n",
       "      <td>-19830.000000</td>\n",
       "      <td>11.000000</td>\n",
       "    </tr>\n",
       "    <tr>\n",
       "      <th>25%</th>\n",
       "      <td>6.068215e+05</td>\n",
       "      <td>2012.000000</td>\n",
       "      <td>8.099838e+05</td>\n",
       "      <td>190.045000</td>\n",
       "      <td>73.488750</td>\n",
       "      <td>3.851750</td>\n",
       "      <td>0.442000</td>\n",
       "      <td>0.000000</td>\n",
       "      <td>-0.254750</td>\n",
       "      <td>11.000000</td>\n",
       "    </tr>\n",
       "    <tr>\n",
       "      <th>50%</th>\n",
       "      <td>1.538895e+06</td>\n",
       "      <td>2015.000000</td>\n",
       "      <td>1.040161e+06</td>\n",
       "      <td>949.303000</td>\n",
       "      <td>365.429500</td>\n",
       "      <td>103.549000</td>\n",
       "      <td>2.305000</td>\n",
       "      <td>30.800500</td>\n",
       "      <td>5.431500</td>\n",
       "      <td>14.000000</td>\n",
       "    </tr>\n",
       "    <tr>\n",
       "      <th>75%</th>\n",
       "      <td>3.404990e+06</td>\n",
       "      <td>2017.000000</td>\n",
       "      <td>1.356006e+06</td>\n",
       "      <td>4101.100250</td>\n",
       "      <td>1390.135750</td>\n",
       "      <td>501.521000</td>\n",
       "      <td>9.000000</td>\n",
       "      <td>253.505250</td>\n",
       "      <td>83.066000</td>\n",
       "      <td>14.000000</td>\n",
       "    </tr>\n",
       "    <tr>\n",
       "      <th>max</th>\n",
       "      <td>6.570000e+07</td>\n",
       "      <td>2019.000000</td>\n",
       "      <td>1.768224e+06</td>\n",
       "      <td>531864.000000</td>\n",
       "      <td>191794.000000</td>\n",
       "      <td>70744.000000</td>\n",
       "      <td>647.500000</td>\n",
       "      <td>62567.000000</td>\n",
       "      <td>67504.000000</td>\n",
       "      <td>21.000000</td>\n",
       "    </tr>\n",
       "  </tbody>\n",
       "</table>\n",
       "</div>"
      ],
      "text/plain": [
       "         AUDIT_FEES         fyear  COMPANY_FKEY             at            ceq  \\\n",
       "count  1.133000e+04  11330.000000  1.133000e+04   11330.000000   11330.000000   \n",
       "mean   3.151835e+06   2014.482524  9.597044e+05    6997.567973    2570.484580   \n",
       "std    4.962281e+06      2.557815  4.904581e+05   23913.640601   10163.682961   \n",
       "min    0.000000e+00   2010.000000  1.800000e+03       0.000000  -11591.210000   \n",
       "25%    6.068215e+05   2012.000000  8.099838e+05     190.045000      73.488750   \n",
       "50%    1.538895e+06   2015.000000  1.040161e+06     949.303000     365.429500   \n",
       "75%    3.404990e+06   2017.000000  1.356006e+06    4101.100250    1390.135750   \n",
       "max    6.570000e+07   2019.000000  1.768224e+06  531864.000000  191794.000000   \n",
       "\n",
       "             ebitda           emp          invt          pifo         exchg  \n",
       "count  11330.000000  11330.000000  11330.000000  11330.000000  11330.000000  \n",
       "mean     905.318871     13.171431    433.607678    285.750122     12.905119  \n",
       "std     3427.174140     38.105159   1742.068876   1872.759854      2.047391  \n",
       "min   -21913.000000      0.000000      0.000000 -19830.000000     11.000000  \n",
       "25%        3.851750      0.442000      0.000000     -0.254750     11.000000  \n",
       "50%      103.549000      2.305000     30.800500      5.431500     14.000000  \n",
       "75%      501.521000      9.000000    253.505250     83.066000     14.000000  \n",
       "max    70744.000000    647.500000  62567.000000  67504.000000     21.000000  "
      ]
     },
     "execution_count": 37,
     "metadata": {},
     "output_type": "execute_result"
    }
   ],
   "source": [
    "cleanedData.describe()"
   ]
  },
  {
   "cell_type": "markdown",
   "metadata": {},
   "source": [
    "Since we have characteristics variables, we would like to know which those variables may improve the accuracy of the model."
   ]
  },
  {
   "cell_type": "code",
   "execution_count": 43,
   "metadata": {},
   "outputs": [
    {
     "name": "stdout",
     "output_type": "stream",
     "text": [
      "INDL    11330\n",
      "Name: indfmt, dtype: int64\n",
      "C    11330\n",
      "Name: consol, dtype: int64\n",
      "D    11330\n",
      "Name: popsrc, dtype: int64\n",
      "STD    11330\n",
      "Name: datafmt, dtype: int64\n"
     ]
    }
   ],
   "source": [
    "print(cleanedData[\"indfmt\"].value_counts())\n",
    "print(cleanedData[\"consol\"].value_counts())\n",
    "print(cleanedData[\"popsrc\"].value_counts())\n",
    "print(cleanedData[\"datafmt\"].value_counts())"
   ]
  },
  {
   "cell_type": "code",
   "execution_count": 46,
   "metadata": {},
   "outputs": [
    {
     "name": "stdout",
     "output_type": "stream",
     "text": [
      "USD    11217\n",
      "CAD      113\n",
      "Name: curcd, dtype: int64\n",
      "A    11200\n",
      "I      130\n",
      "Name: costat, dtype: int64\n"
     ]
    }
   ],
   "source": [
    "print(cleanedData[\"curcd\"].value_counts())\n",
    "print(cleanedData[\"costat\"].value_counts())\n",
    "# print(cleanedData[\"fic\"].value_counts())\n",
    "# print(cleanedData[\"AUDITOR_NAME\"].value_counts())\n",
    "# print(cleanedData[\"tic\"].value_counts())\n",
    "# print(cleanedData[\"COMPANY_FKEY\"].value_counts())\n",
    "# print(cleanedData[\"conm\"].value_counts())"
   ]
  },
  {
   "cell_type": "markdown",
   "metadata": {},
   "source": [
    "The variables, 'indfmt', 'consol, 'popsrc', and 'datafmt' above show that they have only one type. Categorical predictors must have more than one distinct value. Also, they may not give any information, such as data format is in standard deviation. They wouldn't make sense to have it in the model.\n",
    "\n",
    "Even though the 'COMPANY_FKEY, 'costat', 'fic', 'conm', 'AUDITOR_NAME\", 'BEST_EDAR_TICKER\", categorical variables have more than one type,  they are excluded in the model because it would makes other variables being insignificant in the model. If the p-value of each variable is greater than 0.05, we may conclude that those variables are not useful in the model. Without the categorical predictors, we will have 'at', 'ebitda', 'exchg', 'pifo', 'emp', 'ceq', 'invt' and 'fyear' as the independent variables. "
   ]
  },
  {
   "cell_type": "code",
   "execution_count": 41,
   "metadata": {},
   "outputs": [
    {
     "data": {
      "text/html": [
       "<table class=\"simpletable\">\n",
       "<caption>OLS Regression Results</caption>\n",
       "<tr>\n",
       "  <th>Dep. Variable:</th>       <td>AUDIT_FEES</td>    <th>  R-squared:         </th>  <td>   0.683</td>  \n",
       "</tr>\n",
       "<tr>\n",
       "  <th>Model:</th>                   <td>OLS</td>       <th>  Adj. R-squared:    </th>  <td>   0.683</td>  \n",
       "</tr>\n",
       "<tr>\n",
       "  <th>Method:</th>             <td>Least Squares</td>  <th>  F-statistic:       </th>  <td>   3050.</td>  \n",
       "</tr>\n",
       "<tr>\n",
       "  <th>Date:</th>             <td>Sat, 04 Apr 2020</td> <th>  Prob (F-statistic):</th>   <td>  0.00</td>   \n",
       "</tr>\n",
       "<tr>\n",
       "  <th>Time:</th>                 <td>11:08:03</td>     <th>  Log-Likelihood:    </th> <td>-1.8425e+05</td>\n",
       "</tr>\n",
       "<tr>\n",
       "  <th>No. Observations:</th>      <td> 11330</td>      <th>  AIC:               </th>  <td>3.685e+05</td> \n",
       "</tr>\n",
       "<tr>\n",
       "  <th>Df Residuals:</th>          <td> 11321</td>      <th>  BIC:               </th>  <td>3.686e+05</td> \n",
       "</tr>\n",
       "<tr>\n",
       "  <th>Df Model:</th>              <td>     8</td>      <th>                     </th>      <td> </td>     \n",
       "</tr>\n",
       "<tr>\n",
       "  <th>Covariance Type:</th>      <td>nonrobust</td>    <th>                     </th>      <td> </td>     \n",
       "</tr>\n",
       "</table>\n",
       "<table class=\"simpletable\">\n",
       "<tr>\n",
       "      <td></td>         <th>coef</th>     <th>std err</th>      <th>t</th>      <th>P>|t|</th>  <th>[0.025</th>    <th>0.975]</th>  \n",
       "</tr>\n",
       "<tr>\n",
       "  <th>Intercept</th> <td> -7.07e+07</td> <td> 2.07e+07</td> <td>   -3.408</td> <td> 0.001</td> <td>-1.11e+08</td> <td>   -3e+07</td>\n",
       "</tr>\n",
       "<tr>\n",
       "  <th>at</th>        <td>  134.0866</td> <td>    4.300</td> <td>   31.183</td> <td> 0.000</td> <td>  125.658</td> <td>  142.515</td>\n",
       "</tr>\n",
       "<tr>\n",
       "  <th>ebitda</th>    <td> -186.7152</td> <td>   26.182</td> <td>   -7.131</td> <td> 0.000</td> <td> -238.036</td> <td> -135.394</td>\n",
       "</tr>\n",
       "<tr>\n",
       "  <th>exchg</th>     <td>-3.606e+05</td> <td> 1.32e+04</td> <td>  -27.338</td> <td> 0.000</td> <td>-3.86e+05</td> <td>-3.35e+05</td>\n",
       "</tr>\n",
       "<tr>\n",
       "  <th>pifo</th>      <td>  192.7891</td> <td>   25.899</td> <td>    7.444</td> <td> 0.000</td> <td>  142.023</td> <td>  243.556</td>\n",
       "</tr>\n",
       "<tr>\n",
       "  <th>emp</th>       <td> 4.017e+04</td> <td>  850.975</td> <td>   47.202</td> <td> 0.000</td> <td> 3.85e+04</td> <td> 4.18e+04</td>\n",
       "</tr>\n",
       "<tr>\n",
       "  <th>fyear</th>     <td> 3.828e+04</td> <td> 1.03e+04</td> <td>    3.716</td> <td> 0.000</td> <td> 1.81e+04</td> <td> 5.85e+04</td>\n",
       "</tr>\n",
       "<tr>\n",
       "  <th>ceq</th>       <td>  -53.9773</td> <td>    6.980</td> <td>   -7.733</td> <td> 0.000</td> <td>  -67.660</td> <td>  -40.295</td>\n",
       "</tr>\n",
       "<tr>\n",
       "  <th>invt</th>      <td>  421.0913</td> <td>   18.684</td> <td>   22.538</td> <td> 0.000</td> <td>  384.468</td> <td>  457.714</td>\n",
       "</tr>\n",
       "</table>\n",
       "<table class=\"simpletable\">\n",
       "<tr>\n",
       "  <th>Omnibus:</th>       <td>5246.345</td> <th>  Durbin-Watson:     </th>  <td>   0.520</td> \n",
       "</tr>\n",
       "<tr>\n",
       "  <th>Prob(Omnibus):</th>  <td> 0.000</td>  <th>  Jarque-Bera (JB):  </th> <td>274738.530</td>\n",
       "</tr>\n",
       "<tr>\n",
       "  <th>Skew:</th>           <td> 1.458</td>  <th>  Prob(JB):          </th>  <td>    0.00</td> \n",
       "</tr>\n",
       "<tr>\n",
       "  <th>Kurtosis:</th>       <td>26.947</td>  <th>  Cond. No.          </th>  <td>2.13e+07</td> \n",
       "</tr>\n",
       "</table><br/><br/>Warnings:<br/>[1] Standard Errors assume that the covariance matrix of the errors is correctly specified.<br/>[2] The condition number is large, 2.13e+07. This might indicate that there are<br/>strong multicollinearity or other numerical problems."
      ],
      "text/plain": [
       "<class 'statsmodels.iolib.summary.Summary'>\n",
       "\"\"\"\n",
       "                            OLS Regression Results                            \n",
       "==============================================================================\n",
       "Dep. Variable:             AUDIT_FEES   R-squared:                       0.683\n",
       "Model:                            OLS   Adj. R-squared:                  0.683\n",
       "Method:                 Least Squares   F-statistic:                     3050.\n",
       "Date:                Sat, 04 Apr 2020   Prob (F-statistic):               0.00\n",
       "Time:                        11:08:03   Log-Likelihood:            -1.8425e+05\n",
       "No. Observations:               11330   AIC:                         3.685e+05\n",
       "Df Residuals:                   11321   BIC:                         3.686e+05\n",
       "Df Model:                           8                                         \n",
       "Covariance Type:            nonrobust                                         \n",
       "==============================================================================\n",
       "                 coef    std err          t      P>|t|      [0.025      0.975]\n",
       "------------------------------------------------------------------------------\n",
       "Intercept   -7.07e+07   2.07e+07     -3.408      0.001   -1.11e+08      -3e+07\n",
       "at           134.0866      4.300     31.183      0.000     125.658     142.515\n",
       "ebitda      -186.7152     26.182     -7.131      0.000    -238.036    -135.394\n",
       "exchg      -3.606e+05   1.32e+04    -27.338      0.000   -3.86e+05   -3.35e+05\n",
       "pifo         192.7891     25.899      7.444      0.000     142.023     243.556\n",
       "emp         4.017e+04    850.975     47.202      0.000    3.85e+04    4.18e+04\n",
       "fyear       3.828e+04   1.03e+04      3.716      0.000    1.81e+04    5.85e+04\n",
       "ceq          -53.9773      6.980     -7.733      0.000     -67.660     -40.295\n",
       "invt         421.0913     18.684     22.538      0.000     384.468     457.714\n",
       "==============================================================================\n",
       "Omnibus:                     5246.345   Durbin-Watson:                   0.520\n",
       "Prob(Omnibus):                  0.000   Jarque-Bera (JB):           274738.530\n",
       "Skew:                           1.458   Prob(JB):                         0.00\n",
       "Kurtosis:                      26.947   Cond. No.                     2.13e+07\n",
       "==============================================================================\n",
       "\n",
       "Warnings:\n",
       "[1] Standard Errors assume that the covariance matrix of the errors is correctly specified.\n",
       "[2] The condition number is large, 2.13e+07. This might indicate that there are\n",
       "strong multicollinearity or other numerical problems.\n",
       "\"\"\""
      ]
     },
     "execution_count": 41,
     "metadata": {},
     "output_type": "execute_result"
    }
   ],
   "source": [
    "result = sm.ols(formula=\"AUDIT_FEES ~  at + ebitda + exchg + pifo + emp + fyear + ceq + invt\", data=cleanedData).fit()\n",
    "result.summary()"
   ]
  },
  {
   "cell_type": "markdown",
   "metadata": {},
   "source": [
    "In the OLS, the Adj. R-squared indicates that 68.3% of audit fees can be explained by several independent variables, 'at', 'ebitda', 'exchg', 'pifo', 'emp', 'ceq', 'invt' and 'fyear'. The coefficient is when an unit change in the predictor variable that would result in a change in the audit fees.\n",
    "\n",
    "If we increase the 'at' (Assets Total), 'pifo' (Pretax Foreign Exchange), 'emp'(Employees), 'fyear'(Fiscal Year),  or 'invt' (Inventories) by an unit, the audit fees would be increased by 134.0866, 192.7891, 4.017e+04, 3.828e+04, 421.0913\trespectively.  We may conclude that the company with higher assets would pay audit fees more. if the compnay has more pretax foreign exchange, this company has to pay more. The company with more employees pay more. If they have more inventories, they pay audit fees more. The audit fees increase every next year. \n",
    "\n",
    "At last, the higher amount of 'ebitda'(Earning Before Interest), 'exchg' (Stock Exchange), 'ceq' (Common/Ordinary Equity total) company would pay audit fees more. If we increase 'ebita', \"exchg', and 'ceq' by an unit, the audit fees would be decreased by \n",
    "-186.7152, 3.606e+05, -53.9773 respectively.\n",
    "\n",
    "Furthermore, each p-value of the independent variable are less than 0.05 which means they are statistically significant in the model. Nearly 4% of the data is used in this model because the data sets were merged and the null values were dropped. I would not want to add more predictors because it may overfit the model. "
   ]
  },
  {
   "cell_type": "markdown",
   "metadata": {},
   "source": [
    "### Conclusion"
   ]
  },
  {
   "cell_type": "markdown",
   "metadata": {},
   "source": [
    "EDA is a powerful statistical method that identifies which variables have impact on an interest and provides insights. We have to understand how and which independent variables matter most and how they impact each other. For example, I performed correlation analysis to understand the feature-feature relationships and improve the model. I eliminated some factors to get the best fit since I hypothesized several independent variables that may have the same meanings. On the other hand, some factors may help the prediction of audit fees. Explaining audit fees may be difficut because there may have other factors to consider about such as some variables may influence each other. Overall, I learned the importance of EDA, how to explore and understand the data  so we can build the better models. As a data science major, I work with machine learning. I would use EDA more often because if we create better models, we would improve machine learning. \n"
   ]
  }
 ],
 "metadata": {
  "kernelspec": {
   "display_name": "Python 3",
   "language": "python",
   "name": "python3"
  },
  "language_info": {
   "codemirror_mode": {
    "name": "ipython",
    "version": 3
   },
   "file_extension": ".py",
   "mimetype": "text/x-python",
   "name": "python",
   "nbconvert_exporter": "python",
   "pygments_lexer": "ipython3",
   "version": "3.7.3"
  }
 },
 "nbformat": 4,
 "nbformat_minor": 4
}
