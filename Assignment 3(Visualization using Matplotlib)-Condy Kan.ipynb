{
 "cells": [
  {
   "cell_type": "markdown",
   "metadata": {},
   "source": [
    "## Condy Kan\n",
    "\n",
    "# Assignment 3: Visualization using Matplotlib\n",
    "\n",
    "### Concept\n",
    "The data analysts conduct analyses and interpret results in the business world. In this assignment, the use of visualization would allow us to communicate results. There are many principles guiding visualization (e.g., knowing your audience, avoiding chartjunk, etc.) These principles are implemented in Matplotlib by tweaking or adjusting various settings. In this project, we will demonstrate knowledge of commonly used settings (e.g., ticks, labels, annotation).\n",
    "\n",
    "The overall focus is to replicate production quality graphics. A reasonable goal is to reproduce at least 80-95% of the details in a plot – with the exact percent depending on the complexity of the plot.\n",
    "\n",
    "### Requirements\n",
    "1. To demonstrate intermediate to advanced skill in using Matplotlib, replicate two published graphics (or plots).\n",
    "    1. The first plot depicts border apprehensions along US-Mexico during 2000-18 and is found in the link: https://www.bbc.com/news/world-us-canada-44319094.\n",
    "    2. The second is a plot of your choosing – feel free to choose any well-made plot.\n",
    "2. For the mandatory plot, Ashok Robin provided Starter code that has already solved a number of formatting problems. Make at least 5 additional changes or adjustments.\n",
    "3. For the second plot, the one that we choose, make 5 to 15 adjustments.\n",
    "4. For each plot, write a brief summary of what it depicts (i.e., the content, the message). \n",
    "5. For each plot, critically assess the graphic. Identify any shortcomings and possible improvement. \n",
    "6. Finally, provide a summary of key formatting steps (labels, etc.) and Matplotlib functions related to these steps. Please show this summary in a tabular form."
   ]
  },
  {
   "cell_type": "code",
   "execution_count": 1,
   "metadata": {},
   "outputs": [],
   "source": [
    "import matplotlib.pyplot as plt\n",
    "import numpy as np\n",
    "import pandas as pd\n",
    "import matplotlib.ticker as tkr\n",
    "pd.set_option('display.max_colwidth', 0) "
   ]
  },
  {
   "cell_type": "markdown",
   "metadata": {},
   "source": [
    "We obtained the data from the starter code. We are going to replicate the Apprehensions on US-Mexico border graph from https://www.bbc.com/news/science-environment-51134254"
   ]
  },
  {
   "cell_type": "code",
   "execution_count": 2,
   "metadata": {},
   "outputs": [],
   "source": [
    "data = [1650000, 1220000, 950000, 910000, 1150000, 1175000, \n",
    "        1125000, 860000, 700000, 540000, 450000, 340000,\n",
    "        370000,410000, 490000, 340000, 400000, 300000, 400000]"
   ]
  },
  {
   "cell_type": "markdown",
   "metadata": {},
   "source": [
    "The tick values and labels for x-axis are specified."
   ]
  },
  {
   "cell_type": "code",
   "execution_count": 3,
   "metadata": {},
   "outputs": [],
   "source": [
    "x = np.arange(19)\n",
    "years = 2000 + x\n",
    "\n",
    "k = -1\n",
    "years1 = [None] * len(years)\n",
    "for yrs in years:\n",
    "    k += 1\n",
    "    years1[k] = str(yrs)\n",
    "\n",
    "tickindex = [None]*10\n",
    "ticklabel = [None]*10\n",
    "k = -1\n",
    "nlabel = -1\n",
    "for yrs in years1:\n",
    "    k += 1\n",
    "    if k % 2 == 0:\n",
    "        nlabel += 1\n",
    "        tickindex[nlabel] = k\n",
    "        ticklabel[nlabel] = yrs"
   ]
  },
  {
   "cell_type": "markdown",
   "metadata": {},
   "source": [
    "Now, the data points are plotted in a line graph."
   ]
  },
  {
   "cell_type": "code",
   "execution_count": 4,
   "metadata": {},
   "outputs": [
    {
     "data": {
      "image/png": "[encoded data removed]",
      "text/plain": [
       "<Figure size 432x288 with 1 Axes>"
      ]
     },
     "metadata": {
      "needs_background": "light"
     },
     "output_type": "display_data"
    }
   ],
   "source": [
    "fig, ax = plt.subplots()\n",
    "x = np.arange(19)\n",
    "plt.xticks(np.array(tickindex), ticklabel, fontsize = 10, ha = 'center' )\n",
    "plt.yticks(np.arange(0, 1650000, step=400000))\n",
    "\n",
    "ax.yaxis.set_major_formatter(\n",
    "        tkr.FuncFormatter(lambda y,  p: format(int(y), ',')))\n",
    "\n",
    "plt.plot(x, data, linewidth = 1.5, linestyle='-', color =\"steelblue\")\n",
    "\n",
    "plt.ylabel(\"Total Number of Migrants\",size=12)\n",
    "plt.xlabel(\"US Financial Year\", size=12)\n",
    "plt.title('Apprehensions on US-Mexico Border', size=12)\n",
    "\n",
    "ax.set_xlim(left=0, right=18)\n",
    "plt.grid(alpha=0.3)\n",
    "plt.show()"
   ]
  },
  {
   "cell_type": "markdown",
   "metadata": {},
   "source": [
    "From the graph, the number of migrants being apprehended were measured in the US finanical years between 2000 and 2018.  In 2000, 1.6 million people were arrested trying to cross the border illegally, which was the highest in the US finanical years. It declined to 9 hundred thousand people were arrested 2013. It rose in 2014 then became steady for two years; 1.1 million people apprehended at the border in 2006. The number fell dramatically from 2006 to 2011. It dropped to three hundred forty thousand in 2011. Since 2011, the number of migrants were slightly increased to nearly five hundred thousand until 2014. After 2014, it went steadily up and down. However, in 2017, the number of migrants was the lowest it had been in US finanical years. The message may show that less people migrated and arrested at US-Mexico Border because there is a fall in the number of migrants being apprehended at the border in the last 18 years.  "
   ]
  },
  {
   "cell_type": "markdown",
   "metadata": {},
   "source": [
    "For the mandatory plot, I have made several additional changes and adjustments. Firstly, I shifted the ticks at x-axis left by 0.4. The bar graph is adjusted to a line chart. I changed the tick labels from two digit years to four digit years on the x-axis. I also reduced the number of ticks on the y-axis. I labeled the axes and added a title so we would able to understand what the graph mean. I added a muted gridline in my graph so it would not overwhem the bar chart; the gridline would help with readability. Lastly, I tightened my graph by focusing from the range between 2000 and 2018. The summary of formatting steps is provided in a tabular form. "
   ]
  },
  {
   "cell_type": "code",
   "execution_count": 14,
   "metadata": {},
   "outputs": [],
   "source": [
    "data1a = {'Orignal': [\"plt.xticks(np.array(tickindex) + .4, ticklabel, fontsize = 10, ha = 'center')\",\n",
    "                    \"ax.bar(x, data, color = 'skyblue')\", \n",
    "                    \"years1[k] = str(yrs - 100 * (yrs // 100))\", \n",
    "                    \"ax.bar(x, data, color = 'skyblue')\", \n",
    "                    \"None\",\n",
    "                    \"None\",\n",
    "                    \"None\",\n",
    "                    \"None\", \n",
    "                    \"None\",\n",
    "                    \"None\"],\n",
    "          \"Condy Kan's Changes\" : [\"plt.xticks(np.array(tickindex), ticklabel, fontsize = 10, ha = 'center' )\",\n",
    "                              \"plt.plot(x, data, linewidth = 1.5, linestyle='-', color ='steelblue')\",\n",
    "                              \"None\",\n",
    "                              \"plt.plot(x, data, linewidth = 1.5, linestyle='-', color ='steelblue')\",\n",
    "                              \"plt.yticks(np.arange(0, 1650000, step=400000))\",\n",
    "                              \"plt.xlabel('US Financial Year', size=12)\",\n",
    "                              \"plt.ylabel('Total Number of Migrants',size=12)\",\n",
    "                              \"plt.title('Apprehensions on US-Mexico Border', size=12)\", \n",
    "                              \"plt.grid(alpha=0.3)\",\n",
    "                              \"ax.set_xlim(left=0, right=18)\"],\n",
    "          'Adjustment Type': ['The ticks at the x-axis was shifted left by 0.4',\n",
    "                            'The Bar Graph is changed to Line Graph',\n",
    "                            'The tick labels at the x-axis are changed from two digit years to four digit years.',\n",
    "                            'The color plot is changed from skyblue to steelblue',\n",
    "                            'The number of ticks on the y-axis are reduced',\n",
    "                            \"The x-label is added and labeled as 'US Financial Year'\",\n",
    "                            \"The y-label is added and labeled as 'Total number of Migrants'\",\n",
    "                            \"The title is added and labeled as 'Apprehensions on US-Mexico Border'\",\n",
    "                            \"A muted gridline is added behind the chart\", \n",
    "                            \"The plot was focused on the range between 2000 and 2018\"]}"
   ]
  },
  {
   "cell_type": "code",
   "execution_count": 11,
   "metadata": {},
   "outputs": [
    {
     "data": {
      "text/html": [
       "<div>\n",
       "<style scoped>\n",
       "    .dataframe tbody tr th:only-of-type {\n",
       "        vertical-align: middle;\n",
       "    }\n",
       "\n",
       "    .dataframe tbody tr th {\n",
       "        vertical-align: top;\n",
       "    }\n",
       "\n",
       "    .dataframe thead th {\n",
       "        text-align: right;\n",
       "    }\n",
       "</style>\n",
       "<table border=\"1\" class=\"dataframe\">\n",
       "  <thead>\n",
       "    <tr style=\"text-align: right;\">\n",
       "      <th></th>\n",
       "      <th>Orignal</th>\n",
       "      <th>Condy Kan's Changes</th>\n",
       "      <th>Adjustment Type</th>\n",
       "    </tr>\n",
       "  </thead>\n",
       "  <tbody>\n",
       "    <tr>\n",
       "      <th>Adjustment #1</th>\n",
       "      <td>plt.xticks(np.array(tickindex) + .4, ticklabel, fontsize = 10, ha = 'center')</td>\n",
       "      <td>plt.xticks(np.array(tickindex), ticklabel, fontsize = 10, ha = 'center' )</td>\n",
       "      <td>The ticks at the x-axis was shifted left by 0.4</td>\n",
       "    </tr>\n",
       "    <tr>\n",
       "      <th>Adjustment #2</th>\n",
       "      <td>ax.bar(x, data, color = 'skyblue')</td>\n",
       "      <td>plt.plot(x, data, linewidth = 1.5, linestyle='-', color ='steelblue')</td>\n",
       "      <td>The Bar Graph is changed to Line Graph</td>\n",
       "    </tr>\n",
       "    <tr>\n",
       "      <th>Adjustment #3</th>\n",
       "      <td>years1[k] = str(yrs - 100 * (yrs // 100))</td>\n",
       "      <td>None</td>\n",
       "      <td>The tick labels at the x-axis are changed from two digit years to four digit years.</td>\n",
       "    </tr>\n",
       "    <tr>\n",
       "      <th>Adjustment #4</th>\n",
       "      <td>ax.bar(x, data, color = 'skyblue')</td>\n",
       "      <td>plt.plot(x, data, linewidth = 1.5, linestyle='-', color ='steelblue')</td>\n",
       "      <td>The color plot is changed from skyblue to steelblue</td>\n",
       "    </tr>\n",
       "    <tr>\n",
       "      <th>Adjustment #5</th>\n",
       "      <td>None</td>\n",
       "      <td>plt.yticks(np.arange(0, 1650000, step=400000))</td>\n",
       "      <td>The number of ticks on the y-axis are reduced</td>\n",
       "    </tr>\n",
       "    <tr>\n",
       "      <th>Adjustment #6</th>\n",
       "      <td>None</td>\n",
       "      <td>plt.xlabel('US Financial Year', size=12)</td>\n",
       "      <td>The x-label is added and labeled as 'US Financial Year'</td>\n",
       "    </tr>\n",
       "    <tr>\n",
       "      <th>Adjustment #7</th>\n",
       "      <td>None</td>\n",
       "      <td>plt.ylabel('Total Number of Migrants',size=12)</td>\n",
       "      <td>The y-label is added and labeled as 'Total number of Migrants'</td>\n",
       "    </tr>\n",
       "    <tr>\n",
       "      <th>Adjustment #8</th>\n",
       "      <td>None</td>\n",
       "      <td>plt.title('Apprehensions on US-Mexico Border', size=12)</td>\n",
       "      <td>The title is added and labeled as 'Apprehensions on US-Mexico Border'</td>\n",
       "    </tr>\n",
       "    <tr>\n",
       "      <th>Adjustment #9</th>\n",
       "      <td>None</td>\n",
       "      <td>plt.grid(alpha=0.3)</td>\n",
       "      <td>A muted gridline is added behind the chart</td>\n",
       "    </tr>\n",
       "    <tr>\n",
       "      <th>Adjustment #10</th>\n",
       "      <td>None</td>\n",
       "      <td>ax.set_xlim(left=0, right=18)</td>\n",
       "      <td>The plot was focused on the range between 2000 and 2018</td>\n",
       "    </tr>\n",
       "  </tbody>\n",
       "</table>\n",
       "</div>"
      ],
      "text/plain": [
       "                                                                                      Orignal  \\\n",
       "Adjustment #1   plt.xticks(np.array(tickindex) + .4, ticklabel, fontsize = 10, ha = 'center')   \n",
       "Adjustment #2   ax.bar(x, data, color = 'skyblue')                                              \n",
       "Adjustment #3   years1[k] = str(yrs - 100 * (yrs // 100))                                       \n",
       "Adjustment #4   ax.bar(x, data, color = 'skyblue')                                              \n",
       "Adjustment #5   None                                                                            \n",
       "Adjustment #6   None                                                                            \n",
       "Adjustment #7   None                                                                            \n",
       "Adjustment #8   None                                                                            \n",
       "Adjustment #9   None                                                                            \n",
       "Adjustment #10  None                                                                            \n",
       "\n",
       "                                                                      Condy Kan's Changes  \\\n",
       "Adjustment #1   plt.xticks(np.array(tickindex), ticklabel, fontsize = 10, ha = 'center' )   \n",
       "Adjustment #2   plt.plot(x, data, linewidth = 1.5, linestyle='-', color ='steelblue')       \n",
       "Adjustment #3   None                                                                        \n",
       "Adjustment #4   plt.plot(x, data, linewidth = 1.5, linestyle='-', color ='steelblue')       \n",
       "Adjustment #5   plt.yticks(np.arange(0, 1650000, step=400000))                              \n",
       "Adjustment #6   plt.xlabel('US Financial Year', size=12)                                    \n",
       "Adjustment #7   plt.ylabel('Total Number of Migrants',size=12)                              \n",
       "Adjustment #8   plt.title('Apprehensions on US-Mexico Border', size=12)                     \n",
       "Adjustment #9   plt.grid(alpha=0.3)                                                         \n",
       "Adjustment #10  ax.set_xlim(left=0, right=18)                                               \n",
       "\n",
       "                                                                                    Adjustment Type  \n",
       "Adjustment #1   The ticks at the x-axis was shifted left by 0.4                                      \n",
       "Adjustment #2   The Bar Graph is changed to Line Graph                                               \n",
       "Adjustment #3   The tick labels at the x-axis are changed from two digit years to four digit years.  \n",
       "Adjustment #4   The color plot is changed from skyblue to steelblue                                  \n",
       "Adjustment #5   The number of ticks on the y-axis are reduced                                        \n",
       "Adjustment #6   The x-label is added and labeled as 'US Financial Year'                              \n",
       "Adjustment #7   The y-label is added and labeled as 'Total number of Migrants'                       \n",
       "Adjustment #8   The title is added and labeled as 'Apprehensions on US-Mexico Border'                \n",
       "Adjustment #9   A muted gridline is added behind the chart                                           \n",
       "Adjustment #10  The plot was focused on the range between 2000 and 2018                              "
      ]
     },
     "execution_count": 11,
     "metadata": {},
     "output_type": "execute_result"
    }
   ],
   "source": [
    "df = pd.DataFrame(data1a, columns=['Orignal',\"Condy Kan's Changes\",'Adjustment Type'],\n",
    "                  index=['Adjustment #1','Adjustment #2','Adjustment #3','Adjustment #4','Adjustment #5',\n",
    "                         \"Adjustment #6\", \"Adjustment #7\", \"Adjustment #8\", \"Adjustment #9\",\n",
    "                         \"Adjustment #10\"]) \n",
    "df"
   ]
  },
  {
   "cell_type": "markdown",
   "metadata": {},
   "source": [
    "For the second plot, I would like to replicate the Foreign-born share of US population 1850-2017 graph from https://www.bbc.com/news/world-46034400. \n",
    "\n",
    "the graph URL is https://ichef.bbci.co.uk/news/800/cpsprodpb/16F34/production/_104540049_foreign_born_share_640-nc.png.\n",
    "\n",
    "The data was created with my own best judgement. I attempted to reproduce at least 95% of the details in the graph."
   ]
  },
  {
   "cell_type": "code",
   "execution_count": 182,
   "metadata": {},
   "outputs": [],
   "source": [
    "data1 = [9.5,12.3,14.1,12.7,14.5,13,14.4,12.9,11.5,9,7.2,5.4,4.5,6,7.5,11,13,13.8]"
   ]
  },
  {
   "cell_type": "markdown",
   "metadata": {},
   "source": [
    "The tick values and labels for x-axis are specified."
   ]
  },
  {
   "cell_type": "code",
   "execution_count": 183,
   "metadata": {},
   "outputs": [],
   "source": [
    "x1 = np.arange(18)\n",
    "years2a = 1850 + x1*10\n",
    "years2a[-1]=2017\n",
    "k = -1\n",
    "years2 = [None] * 10\n",
    "for yrs in years2a:\n",
    "    if ((yrs/10) % 2) != 0:\n",
    "        k += 1\n",
    "        years2[k] = str(yrs)\n",
    "\n",
    "# print(years2)\n",
    "tickindex1 = tickindex"
   ]
  },
  {
   "cell_type": "markdown",
   "metadata": {},
   "source": [
    "The bar graph is created with the provided data set and labels."
   ]
  },
  {
   "cell_type": "code",
   "execution_count": 184,
   "metadata": {},
   "outputs": [
    {
     "data": {
      "image/png": "[encoded data removed]",
      "text/plain": [
       "<Figure size 432x288 with 1 Axes>"
      ]
     },
     "metadata": {
      "needs_background": "light"
     },
     "output_type": "display_data"
    }
   ],
   "source": [
    "fig, ax = plt.subplots()\n",
    "x = np.arange(18)\n",
    "bars = ax.bar(x,data1,color=\"seagreen\")\n",
    "plt.xticks(np.array(tickindex1), years2, fontsize = 10, ha = 'center')\n",
    "plt.yticks(np.arange(0, 16, step=2))\n",
    "\n",
    "\n",
    "ax.yaxis.set_major_formatter(\n",
    "        tkr.FuncFormatter(lambda y,  p: format(int(y), ',')))\n",
    "ax.yaxis.grid(color='gray', linestyle='-', alpha=0.5)\n",
    "ax.set_axisbelow(True)\n",
    "\n",
    "\n",
    "plt.ylabel(\"% of Total US Population \",size=12)\n",
    "plt.xlabel(\"Year\", size=12)\n",
    "plt.title('Foregin-born Share of US population 1850-2017', size=12)\n",
    "\n",
    "plt.ylim(bottom=0)\n",
    "ax.set_xlim(left=-0.55, right=17.1)\n",
    "plt.text(16.88,-1.08, '2017')\n",
    "plt.show()"
   ]
  },
  {
   "cell_type": "markdown",
   "metadata": {},
   "source": [
    "From the bar chart, the percentage of the US population was born overseas were measured from 1850 to 2017. In the mid to late 19th Centry, more than 9% of the population was born abroad.  The percentage of the immigration was roughly the same as between 1870 and 1910. In this case, World War I lasted from 1914 to 1918. Subsequently, the Great Depression took mostly during 1930s. Moreover, World War II lasted from 1939 to 1945. Many events also occured and affected the number of immigrats. So from 1920s, the immigration fell dramatically until 1980s. It grew up to nearly 6% in 1980s and continuously rose up to approximately 14% for 37 years; in 2017, nearly 14% of the US population was born overseas. The message of the bar graph has shown that two world wars and the US major events have impacted to Immigration. "
   ]
  },
  {
   "cell_type": "markdown",
   "metadata": {},
   "source": [
    "For the second plot, I have made several adjustments. The line graph is adjusted to bar chart. I increased the numbers of ticks at y-axis so we could interpret each bar better. Instead of using lightseagreen for graphing, I used the color of seagreen that is much darker than the gridline. I used the muted horizontal gridline so we could interpret each bar better. Plus, the axes and title are adjusted and labeled so it shows that that foregin-born share of US population were measured from 1850-2017. The summary of formatting steps are provided in a table below."
   ]
  },
  {
   "cell_type": "code",
   "execution_count": 12,
   "metadata": {},
   "outputs": [],
   "source": [
    "data2a = {'Orignal': [\"plt.plot(x, data, linewidth = 1.5, linestyle='-', color ='lightseagreen')\", \n",
    "                         \"plt.yticks(np.arange(0, 16, step=3))\",\n",
    "                         \"plt.grid(alpha=0.5)\", \n",
    "                         \"plt.plot(x, data, linewidth = 1.5, linestyle='-', color ='lightseagreen')\", \n",
    "                         \"plt.text(0, 16, '% of Total US Population')\",\n",
    "                         \"None\",\n",
    "                         \"plt.text(0,17, 'Foregin-born share of US population 1850-2017', size=14, fontweight='bold')\"],\n",
    "        \"Condy Kan's Changes\" : [\"ax.bar(x,data1,color='seagreen')\",\n",
    "                              \"plt.yticks(np.arange(0, 16, step=2))\",\n",
    "                              \"ax.yaxis.grid(color='gray', linestyle='-', alpha=0.5)\",\n",
    "                              \"ax.bar(x,data1,color='seagreen')\",\n",
    "                              \"plt.ylabel('% of Total US Population',size=12)\",\n",
    "                              \"plt.xlabel('Year', size=12)\",\n",
    "                             \"plt.title('Foregin-Born share of US population', size=12)\"],\n",
    "        'Adjustment Type': ['Line Graph is changed to Bar Chart',\n",
    "                            'The number of ticks at y-axis is increased',\n",
    "                            'The gridline is changed to horizontal gridline',\n",
    "                            'The color plot is changed from light sea green to sea green',\n",
    "                            'The y-axis label is moved to the middle of the graph and rotated vertically',\n",
    "                           \"The x-axis label is added and labeled as 'Year'\",\n",
    "                           \"The title is not in bold font and moved to the center\"]}"
   ]
  },
  {
   "cell_type": "code",
   "execution_count": 13,
   "metadata": {},
   "outputs": [
    {
     "data": {
      "text/html": [
       "<div>\n",
       "<style scoped>\n",
       "    .dataframe tbody tr th:only-of-type {\n",
       "        vertical-align: middle;\n",
       "    }\n",
       "\n",
       "    .dataframe tbody tr th {\n",
       "        vertical-align: top;\n",
       "    }\n",
       "\n",
       "    .dataframe thead th {\n",
       "        text-align: right;\n",
       "    }\n",
       "</style>\n",
       "<table border=\"1\" class=\"dataframe\">\n",
       "  <thead>\n",
       "    <tr style=\"text-align: right;\">\n",
       "      <th></th>\n",
       "      <th>Orignal</th>\n",
       "      <th>Condy Kan's Changes</th>\n",
       "      <th>Adjustment Type</th>\n",
       "    </tr>\n",
       "  </thead>\n",
       "  <tbody>\n",
       "    <tr>\n",
       "      <th>Adjustment #1</th>\n",
       "      <td>plt.plot(x, data, linewidth = 1.5, linestyle='-', color ='lightseagreen')</td>\n",
       "      <td>ax.bar(x,data1,color='seagreen')</td>\n",
       "      <td>Line Graph is changed to Bar Chart</td>\n",
       "    </tr>\n",
       "    <tr>\n",
       "      <th>Adjustment #2</th>\n",
       "      <td>plt.yticks(np.arange(0, 16, step=3))</td>\n",
       "      <td>plt.yticks(np.arange(0, 16, step=2))</td>\n",
       "      <td>The number of ticks at y-axis is increased</td>\n",
       "    </tr>\n",
       "    <tr>\n",
       "      <th>Adjustment #3</th>\n",
       "      <td>plt.grid(alpha=0.5)</td>\n",
       "      <td>ax.yaxis.grid(color='gray', linestyle='-', alpha=0.5)</td>\n",
       "      <td>The gridline is changed to horizontal gridline</td>\n",
       "    </tr>\n",
       "    <tr>\n",
       "      <th>Adjustment #4</th>\n",
       "      <td>plt.plot(x, data, linewidth = 1.5, linestyle='-', color ='lightseagreen')</td>\n",
       "      <td>ax.bar(x,data1,color='seagreen')</td>\n",
       "      <td>The color plot is changed from light sea green to sea green</td>\n",
       "    </tr>\n",
       "    <tr>\n",
       "      <th>Adjustment #5</th>\n",
       "      <td>plt.text(0, 16, '% of Total US Population')</td>\n",
       "      <td>plt.ylabel('% of Total US Population',size=12)</td>\n",
       "      <td>The y-axis label is moved to the middle of the graph and rotated vertically</td>\n",
       "    </tr>\n",
       "    <tr>\n",
       "      <th>Adjustment #6</th>\n",
       "      <td>None</td>\n",
       "      <td>plt.xlabel('Year', size=12)</td>\n",
       "      <td>The x-axis label is added and labeled as 'Year'</td>\n",
       "    </tr>\n",
       "    <tr>\n",
       "      <th>Adjustment #7</th>\n",
       "      <td>plt.text(0,17, 'Foregin-born share of US population 1850-2017', size=14, fontweight='bold')</td>\n",
       "      <td>plt.title('Foregin-Born share of US population', size=12)</td>\n",
       "      <td>The title is not in bold font and moved to the center</td>\n",
       "    </tr>\n",
       "  </tbody>\n",
       "</table>\n",
       "</div>"
      ],
      "text/plain": [
       "                                                                                                   Orignal  \\\n",
       "Adjustment #1  plt.plot(x, data, linewidth = 1.5, linestyle='-', color ='lightseagreen')                     \n",
       "Adjustment #2  plt.yticks(np.arange(0, 16, step=3))                                                          \n",
       "Adjustment #3  plt.grid(alpha=0.5)                                                                           \n",
       "Adjustment #4  plt.plot(x, data, linewidth = 1.5, linestyle='-', color ='lightseagreen')                     \n",
       "Adjustment #5  plt.text(0, 16, '% of Total US Population')                                                   \n",
       "Adjustment #6  None                                                                                          \n",
       "Adjustment #7  plt.text(0,17, 'Foregin-born share of US population 1850-2017', size=14, fontweight='bold')   \n",
       "\n",
       "                                                     Condy Kan's Changes  \\\n",
       "Adjustment #1  ax.bar(x,data1,color='seagreen')                            \n",
       "Adjustment #2  plt.yticks(np.arange(0, 16, step=2))                        \n",
       "Adjustment #3  ax.yaxis.grid(color='gray', linestyle='-', alpha=0.5)       \n",
       "Adjustment #4  ax.bar(x,data1,color='seagreen')                            \n",
       "Adjustment #5  plt.ylabel('% of Total US Population',size=12)              \n",
       "Adjustment #6  plt.xlabel('Year', size=12)                                 \n",
       "Adjustment #7  plt.title('Foregin-Born share of US population', size=12)   \n",
       "\n",
       "                                                                           Adjustment Type  \n",
       "Adjustment #1  Line Graph is changed to Bar Chart                                           \n",
       "Adjustment #2  The number of ticks at y-axis is increased                                   \n",
       "Adjustment #3  The gridline is changed to horizontal gridline                               \n",
       "Adjustment #4  The color plot is changed from light sea green to sea green                  \n",
       "Adjustment #5  The y-axis label is moved to the middle of the graph and rotated vertically  \n",
       "Adjustment #6  The x-axis label is added and labeled as 'Year'                              \n",
       "Adjustment #7  The title is not in bold font and moved to the center                        "
      ]
     },
     "execution_count": 13,
     "metadata": {},
     "output_type": "execute_result"
    }
   ],
   "source": [
    "df = pd.DataFrame(data2a, columns=['Orignal',\"Condy Kan's Changes\",'Adjustment Type'],\n",
    "                  index=['Adjustment #1','Adjustment #2','Adjustment #3','Adjustment #4','Adjustment #5', \"Adjustment #6\", \"Adjustment #7\"]) \n",
    "df"
   ]
  },
  {
   "cell_type": "markdown",
   "metadata": {},
   "source": [
    "### Conclusion\n",
    "Overall, I learned how to use Matplotlib functions that allow me to visualize and communicate results better. From this project, I ensure that the audience is able to understand the full picture of my demonstration graphs. I also avoided chartjunk such as softening my gridlines. I replicated two published graphs and at least 9% of the details are reproduced. From two graphs, I showed my ability to modify and yet keep clear with the graphical representations of information and data.\n",
    "\n",
    "Within two graphs, we focused on immigration. In the Apprehensions on US-Mexico Border graph, I utlized the line graph to show the number of migrants being apprehended duirng the US finanical years between 2000 and 2018. In the Foregin-Born share of US population graph, I presented the bar graph to show the percentage of the US population that was born abroad between 1850-2017. With the modifications, I ensured that the charts understandable and showed the message the audience can convey. For example, I labeled and adjusted ticks at y-axis and x-axis. I added the titles, which are important for the graphs so the audience would understand the representation of each graph better. \n",
    "\n",
    "Lastly, I successfully provided two summaries of key formatting steps, along with Matplotlib functions in tabular forms. With this requirement, I noticed that the table helped me to see the differences between the original edits and my edits better, and yet there are nany ways to plot the data sets. "
   ]
  }
 ],
 "metadata": {
  "kernelspec": {
   "display_name": "Python 3",
   "language": "python",
   "name": "python3"
  },
  "language_info": {
   "codemirror_mode": {
    "name": "ipython",
    "version": 3
   },
   "file_extension": ".py",
   "mimetype": "text/x-python",
   "name": "python",
   "nbconvert_exporter": "python",
   "pygments_lexer": "ipython3",
   "version": "3.7.3"
  }
 },
 "nbformat": 4,
 "nbformat_minor": 2
}
