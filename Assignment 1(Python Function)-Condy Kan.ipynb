{
 "cells": [
  {
   "cell_type": "markdown",
   "metadata": {},
   "source": [
    "## Condy Kan\n",
    "\n",
    "# Assignment 1: Function for Calculating Z-scores for data in a Numpy Array\n",
    "\n",
    "### Concept\n",
    "As a preliminary step in data analysis, certain types of data are transformed to ensure “good behavior” and “compatibility with other data.” One such transformation is the Z-score which is defined as (value minus mean) / sigma. Two series that has been transformed using the Z-score are more easily compared:\n",
    "\n",
    "These two tutorials discuss this useful concept in statistics:\n",
    "\n",
    "Comparing with z-scores: https://www.khanacademy.org/math/ap-statistics/density-curves-normal-distribution-ap/measuring-position/v/comparing-with-z-scores\n",
    "Z-Scores – What and Why?: https://www.spss-tutorials.com/z-scores-what-and-why/\n",
    "In this project, you will calculate Z-scores using your knowledge of Numpy. In addition, you learn about the nuances of constructing a function.\n",
    "\n",
    "### Requirements\n",
    "Write a function that takes two inputs: a numpy array and a scalar. The function outputs a numpy array in which the column indicated by the scalar is transformed to Z-score while all other columns are maintained. If no scalar is provided, all columns are transformed.\n",
    "The purpose of this requirement is to demonstrate python and numpy proficiency, so do not use helper functions in other Python packages to calculate the Z-score.\n",
    "Demonstrate good practices in function construction such as testing for validity of inputs. In general, in this and other projects involving coding, your work will be evaluated on whether the code is clean and easy to understand.\n",
    "Run and produce results using these inputs:\n",
    "x1 = np.array([[4,3,12],[1,5,20],[1,2,3],[10,20,40],[7,2,44]]); x2 = 3; x3 = 6\n",
    "Run the function four times and generate results.\n",
    "myz(x1)\n",
    "myz(x1,x2)\n",
    "myz(x1,x3)\n",
    "myz(x2,x3)\n",
    "Briefly, list concepts you learned from the project.\n",
    "Create a report produced and formatted using a Jupyter notebook.\n",
    "Your well-structured report should include a brief description of the project, your coding, results, and other required elements—e.g., the list of things learned. Finally, note that a requirement of this project is to demonstrate usage of a Juptyter notebook."
   ]
  },
  {
   "cell_type": "code",
   "execution_count": 9,
   "metadata": {},
   "outputs": [],
   "source": [
    "import numpy as np #import numpy library from python\n",
    "import pandas as pd \n",
    "\n",
    "def myz(array, value = 0): #calculating z-scores\n",
    "\n",
    "    if isinstance(array, np.ndarray): \n",
    "        badArray = [num for num in array if isinstance(num, str)] #if the array contains of non-integers, return the elements that are not integer\n",
    "        if(len(badArray) != 0):\n",
    "            print(\"Problem in the array input\", badArray)\n",
    "            return\n",
    "        \n",
    "    elif isinstance(array, float) or isinstance(array, int): \n",
    "        array = [array]\n",
    "        if (len(array) < 2):\n",
    "            print(\"Required at least two data points, you only have:\", array)\n",
    "            return\n",
    "    else:\n",
    "        print(\"unknown input\") \n",
    "    \n",
    "    mu = []\n",
    "    for i in range(len(array[0])):\n",
    "        mu.append(np.mean(array[:,i]))\n",
    "#     print(mu)\n",
    "    \n",
    "    std = []\n",
    "    for i in range(len(array[0])):\n",
    "        std.append(np.std(array[:,i]))\n",
    "#     print(std)\n",
    "        \n",
    "#     if the values in the array are the same then the standard deviation would be zero.It cannot be used to calculate z-score\n",
    "    if 0 in std: \n",
    "        return (\"The standard deviation value must be greater than zero.\") \n",
    "    \n",
    "    z = []\n",
    "    if (value is 0):  #if the scalar is not provided then return a transformed array of z-score\n",
    "        for i in range(len(array)):\n",
    "            for j in range(len(array[i])):\n",
    "                z.append((array[i][j]-mu[j])/std[j])\n",
    "        z = np.array(z).reshape((len(array), len(array[i])))\n",
    "        return z\n",
    "    \n",
    "    else:\n",
    "        if(type(value) is int): #if an integer value is provided the x = value \n",
    "            if(value > len(array[0]) or value < 0):\n",
    "                print (\"In Python, the index\", (value-1), \"is out of bounds\")\n",
    "                return\n",
    "            else:  # transfrom only one colum \n",
    "                z = []\n",
    "                x = (value-1)\n",
    "                for i in range(len(array)):\n",
    "                    for j in range(len(array[i])):\n",
    "                        if j is x: \n",
    "                            z.append((array[i][x]-mu[x])/std[x])\n",
    "                            continue\n",
    "                        z.append(array[i][j])\n",
    "                z = np.array(z).reshape((len(array), len(array[i])))\n",
    "                return z\n",
    "                \n",
    "        else:\n",
    "            print(value, \"is not an integer\") # if the value is not an integer then return that it is not an integer\n",
    "            return\n"
   ]
  },
  {
   "cell_type": "code",
   "execution_count": 10,
   "metadata": {},
   "outputs": [],
   "source": [
    "import numpy as np\n",
    "\n",
    "x1 = np.array([[4,3,12],[1,5,20],[1,2,3],[10,20,40],[7,2,44]])\n",
    "x2 = 3\n",
    "x3 = 6"
   ]
  },
  {
   "cell_type": "code",
   "execution_count": 11,
   "metadata": {},
   "outputs": [
    {
     "data": {
      "text/plain": [
       "array([[-0.17149859, -0.49363572, -0.74427584],\n",
       "       [-1.02899151, -0.20326177, -0.23968205],\n",
       "       [-1.02899151, -0.63882269, -1.31194386],\n",
       "       [ 1.54348727,  1.97454287,  1.02180243],\n",
       "       [ 0.68599434, -0.63882269,  1.27409932]])"
      ]
     },
     "execution_count": 11,
     "metadata": {},
     "output_type": "execute_result"
    }
   ],
   "source": [
    "myz(x1)"
   ]
  },
  {
   "cell_type": "code",
   "execution_count": 12,
   "metadata": {
    "scrolled": true
   },
   "outputs": [
    {
     "data": {
      "text/plain": [
       "array([[ 4.        ,  3.        , -0.74427584],\n",
       "       [ 1.        ,  5.        , -0.23968205],\n",
       "       [ 1.        ,  2.        , -1.31194386],\n",
       "       [10.        , 20.        ,  1.02180243],\n",
       "       [ 7.        ,  2.        ,  1.27409932]])"
      ]
     },
     "execution_count": 12,
     "metadata": {},
     "output_type": "execute_result"
    }
   ],
   "source": [
    "myz(x1, x2)"
   ]
  },
  {
   "cell_type": "code",
   "execution_count": 13,
   "metadata": {},
   "outputs": [
    {
     "name": "stdout",
     "output_type": "stream",
     "text": [
      "In Python, the index 5 is out of bounds\n"
     ]
    }
   ],
   "source": [
    "myz(x1,x3)"
   ]
  },
  {
   "cell_type": "code",
   "execution_count": 14,
   "metadata": {},
   "outputs": [
    {
     "name": "stdout",
     "output_type": "stream",
     "text": [
      "Required at least two data points, you only have: [3]\n"
     ]
    }
   ],
   "source": [
    "myz(x2,x3)"
   ]
  },
  {
   "cell_type": "markdown",
   "metadata": {},
   "source": [
    "# List of the concepts learned:\n",
    "1. I became more comfortable with Python syntax\n",
    "2. I learned how to use Numpy functions to get means and standard deviations.\n",
    "3. I learned how to index and slice arrays, in this case slice each columns to create means and standard deviations.\n",
    "4. I understand the concepts of Z-score better such as we could not have standard deviaiton could not be zero. \n",
    "5. I learned how to transform columns or by a column of the provide scalar with z-scores. \n",
    "6. I successfully thought of all of the cases that wouldn't crash such as having strings in array so we could calculate mean and standard deviation and get z-scores in the output.\n",
    "7. I also became more familar with Numpy's functions such as reshape.\n",
    "8. Lastly, I learned how to create python functions such as passing an array and a scalar value into the function and call the function properly. "
   ]
  }
 ],
 "metadata": {
  "kernelspec": {
   "display_name": "Python 3",
   "language": "python",
   "name": "python3"
  },
  "language_info": {
   "codemirror_mode": {
    "name": "ipython",
    "version": 3
   },
   "file_extension": ".py",
   "mimetype": "text/x-python",
   "name": "python",
   "nbconvert_exporter": "python",
   "pygments_lexer": "ipython3",
   "version": "3.7.3"
  }
 },
 "nbformat": 4,
 "nbformat_minor": 2
}
